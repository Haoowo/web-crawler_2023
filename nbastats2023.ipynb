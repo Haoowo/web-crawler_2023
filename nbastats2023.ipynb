{
 "cells": [
  {
   "cell_type": "code",
   "execution_count": 2,
   "metadata": {},
   "outputs": [],
   "source": [
    "from selenium import webdriver\n",
    "from selenium.webdriver.common.by import By\n",
    "import time\n",
    "import csv\n",
    "import pandas as pd\n",
    "driver = webdriver.Chrome()\n",
    "\n",
    "driver.get(\"https://www.nba.com/stats/players/traditional/\")\n",
    "time.sleep(2)\n",
    "driver.find_element(By.ID, 'onetrust-accept-btn-handler').click()\n",
    "time.sleep(2)"
   ]
  },
  {
   "cell_type": "code",
   "execution_count": 3,
   "metadata": {},
   "outputs": [],
   "source": [
    "select = driver.find_element(By.XPATH, '//*[@id=\"__next\"]/div[2]/div[2]/div[3]/section[2]/div/div[2]/div[2]/div[1]/div[3]/div/label/div/select').click()\n",
    "select = driver.find_element(By.XPATH, '//*[@id=\"__next\"]/div[2]/div[2]/div[3]/section[2]/div/div[2]/div[2]/div[1]/div[3]/div/label/div/select/option[1]').click()\n",
    "time.sleep(3)\n",
    "\n",
    "content = driver.find_element(By.CLASS_NAME, 'Crom_body__UYOcU')\n",
    "text=content.text"
   ]
  },
  {
   "cell_type": "code",
   "execution_count": 4,
   "metadata": {},
   "outputs": [],
   "source": [
    "text02= text.replace( ' Jr.', '-Jr')\n",
    "text03= text02.replace( ' III', '-III')\n",
    "text04= text03.replace( ' IV', '-IV')\n",
    "text05= text04.replace( ' Sr.', '-Sr')\n",
    "text06= text05.replace( ' II', '-II')"
   ]
  },
  {
   "cell_type": "code",
   "execution_count": null,
   "metadata": {},
   "outputs": [],
   "source": [
    "arr01=text06.split()\n",
    "\n",
    "def split_list(l, n):\n",
    "  # 將list分割 (l:list, n:每個matrix裡面有n個元素)\n",
    "  for idx in range(0, len(l), n):\n",
    "    yield l[idx:idx+n]\n",
    "\n",
    "result = list(split_list(arr01, 31)) #將list分割成每份中有31個元素\n",
    "print(result) "
   ]
  },
  {
   "cell_type": "code",
   "execution_count": 12,
   "metadata": {},
   "outputs": [],
   "source": [
    "\n",
    "Field=['Rank','FirstName', 'LastName', 'TEAM', 'AGE', 'GP', 'W', 'L', 'MIN', 'PTS', 'FGM', 'FGA', 'FG%', '3PM', '3PA', '3P%', 'FTM', 'FTA', 'FT%', 'OREB', 'DREB', 'REB', 'AST', 'TOV', 'STL', 'BLK', 'PF', 'FP', 'DD2', 'TD3', '+/-']\n"
   ]
  },
  {
   "cell_type": "code",
   "execution_count": 13,
   "metadata": {},
   "outputs": [],
   "source": [
    "with open('nba.csv', mode='w', newline='', encoding='utf-8') as f:\n",
    "    writer=csv.writer(f)\n",
    "    writer.writerow(Field)\n",
    "    writer.writerows(result)"
   ]
  },
  {
   "cell_type": "code",
   "execution_count": null,
   "metadata": {},
   "outputs": [],
   "source": [
    "df = pd.read_csv('nba.csv')\n",
    "df"
   ]
  }
 ],
 "metadata": {
  "kernelspec": {
   "display_name": "Python 3",
   "language": "python",
   "name": "python3"
  },
  "language_info": {
   "codemirror_mode": {
    "name": "ipython",
    "version": 3
   },
   "file_extension": ".py",
   "mimetype": "text/x-python",
   "name": "python",
   "nbconvert_exporter": "python",
   "pygments_lexer": "ipython3",
   "version": "3.9.7"
  },
  "orig_nbformat": 4
 },
 "nbformat": 4,
 "nbformat_minor": 2
}
