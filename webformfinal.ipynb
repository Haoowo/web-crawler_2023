{
 "cells": [
  {
   "attachments": {},
   "cell_type": "markdown",
   "metadata": {},
   "source": [
    "#//*[@id=\"main\"]/div[2]/div[9]"
   ]
  },
  {
   "cell_type": "code",
   "execution_count": 11,
   "metadata": {},
   "outputs": [],
   "source": [
    "from bs4 import BeautifulSoup\n",
    "from selenium import webdriver\n",
    "from selenium.webdriver.common.by import By\n",
    "import time\n",
    "\n",
    "driver = webdriver.Chrome()\n",
    "url = \"https://pvpoketw.com/rankings/all/1500/leads/\"\n",
    "driver.get(url)\n",
    "driver.minimize_window()\n",
    "# 等待網頁加載完成\n",
    "time.sleep(5)\n",
    "table = driver.find_element(By.XPATH, '//*[@id=\"main\"]/div[2]/div[9]')\n",
    "text = table.text\n",
    "text = text.replace('\\n†\\n,', ',')\n",
    "text = text.replace('\\n†\\n', '\\n')\n",
    "text = text.split('\\n')\n"
   ]
  },
  {
   "cell_type": "code",
   "execution_count": 12,
   "metadata": {},
   "outputs": [
    {
     "name": "stdout",
     "output_type": "stream",
     "text": [
      " * Serving Flask app '__main__'\n",
      " * Debug mode: off\n"
     ]
    },
    {
     "name": "stderr",
     "output_type": "stream",
     "text": [
      "WARNING: This is a development server. Do not use it in a production deployment. Use a production WSGI server instead.\n",
      " * Running on http://127.0.0.1:5000\n",
      "Press CTRL+C to quit\n",
      "127.0.0.1 - - [21/Jun/2023 21:48:53] \"GET / HTTP/1.1\" 200 -\n"
     ]
    }
   ],
   "source": [
    "from flask import Flask, render_template\n",
    "app = Flask(__name__)\n",
    "\n",
    "table_rows = []\n",
    "@app.route('/')\n",
    "def display_table():\n",
    "\n",
    "    \n",
    "    # 每三項為一組，以並排顯示\n",
    "    for i in range(0, len(text), 3):\n",
    "        name = text[i]\n",
    "        moves = text[i + 1]\n",
    "        \n",
    "        score = text[i + 2]\n",
    "        \n",
    "        \n",
    "        table_rows.append({\n",
    "            'name': name,\n",
    "            'moves': moves,\n",
    "            'score': score\n",
    "        })\n",
    "\n",
    "    return render_template('index.html', rows=table_rows)\n",
    "\n",
    "if __name__ == '__main__':\n",
    "    app.run()\n"
   ]
  },
  {
   "cell_type": "code",
   "execution_count": 13,
   "metadata": {},
   "outputs": [
    {
     "name": "stdout",
     "output_type": "stream",
     "text": [
      "OK\n"
     ]
    }
   ],
   "source": [
    "import pyodbc\n",
    "\n",
    "# 建立與 SQL Server 的連線\n",
    "conn = pyodbc.connect(\"Driver={SQL Server};SERVER=MSI;DATABASE=poke;UID=sa;PWD=123\")\n",
    "\n",
    "# 確認連線成功\n",
    "if conn:\n",
    "    print(\"OK\")\n",
    "\n",
    "# 建立 cursor 來執行 SQL 語法\n",
    "cursor = conn.cursor()\n",
    "\n",
    "\n"
   ]
  },
  {
   "cell_type": "code",
   "execution_count": null,
   "metadata": {},
   "outputs": [],
   "source": [
    "cursor.execute('''\n",
    "\t\tCREATE TABLE cp1500 (\n",
    "            name nvarchar(50),\n",
    "            moves nvarchar(150),\n",
    "            score nvarchar(50)\n",
    "\t\t\t)\n",
    "               ''')\n",
    "\n",
    "conn.commit()"
   ]
  },
  {
   "cell_type": "code",
   "execution_count": null,
   "metadata": {},
   "outputs": [],
   "source": [
    "#更換moves欄位的逗號為底線\n",
    "for row in table_rows:\n",
    "    moves = row['moves'].replace(',', '_')\n",
    "    row['moves'] = moves"
   ]
  },
  {
   "cell_type": "code",
   "execution_count": null,
   "metadata": {},
   "outputs": [],
   "source": [
    "#插入資料\n",
    "insert_sql = \"INSERT INTO cp1500 (name, moves, score) VALUES (?, ?, ?)\"\n",
    "\n",
    "for row in table_rows:\n",
    "    values = (row['name'], row['moves'], row['score'])\n",
    "    cursor.execute(insert_sql, values)\n",
    "\n",
    "# 提交資料庫交易\n",
    "conn.commit()\n"
   ]
  },
  {
   "cell_type": "code",
   "execution_count": null,
   "metadata": {},
   "outputs": [],
   "source": [
    "cursor.execute('SELECT * FROM cp1500')\n",
    "\n",
    "# 獲取查詢結果\n",
    "result = cursor.fetchall()\n",
    "\n",
    "# 輸出結果\n",
    "for row in result:\n",
    "    print(row)\n",
    "\n",
    "# 關閉連線\n",
    "cursor.close()\n",
    "conn.close()\n"
   ]
  }
 ],
 "metadata": {
  "kernelspec": {
   "display_name": "Python 3",
   "language": "python",
   "name": "python3"
  },
  "language_info": {
   "codemirror_mode": {
    "name": "ipython",
    "version": 3
   },
   "file_extension": ".py",
   "mimetype": "text/x-python",
   "name": "python",
   "nbconvert_exporter": "python",
   "pygments_lexer": "ipython3",
   "version": "3.11.3"
  },
  "orig_nbformat": 4,
  "vscode": {
   "interpreter": {
    "hash": "fb4569285eef3a3450cb62085a5b1e0da4bce0af555edc33dcf29baf3acc1368"
   }
  }
 },
 "nbformat": 4,
 "nbformat_minor": 2
}
