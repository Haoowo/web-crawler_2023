{
 "cells": [
  {
   "attachments": {},
   "cell_type": "markdown",
   "metadata": {},
   "source": [
    "#//*[@id=\"main\"]/div[2]/div[9]"
   ]
  },
  {
   "cell_type": "code",
   "execution_count": 11,
   "metadata": {},
   "outputs": [],
   "source": [
    "from bs4 import BeautifulSoup\n",
    "from selenium import webdriver\n",
    "from selenium.webdriver.common.by import By\n",
    "import time\n",
    "\n",
    "driver = webdriver.Chrome()\n",
    "url = \"https://pvpoketw.com/rankings/all/1500/leads/\"\n",
    "driver.get(url)\n",
    "driver.minimize_window()\n",
    "# 等待網頁加載完成\n",
    "time.sleep(5)\n",
    "table = driver.find_element(By.XPATH, '//*[@id=\"main\"]/div[2]/div[9]')\n",
    "text = table.text\n",
    "text = text.replace('\\n†\\n,', ',')\n",
    "text = text.replace('\\n†\\n', '\\n')\n",
    "text = text.split('\\n')\n"
   ]
  },
  {
   "cell_type": "code",
   "execution_count": 12,
   "metadata": {},
   "outputs": [
    {
     "name": "stdout",
     "output_type": "stream",
     "text": [
      " * Serving Flask app '__main__'\n",
      " * Debug mode: off\n"
     ]
    },
    {
     "name": "stderr",
     "output_type": "stream",
     "text": [
      "WARNING: This is a development server. Do not use it in a production deployment. Use a production WSGI server instead.\n",
      " * Running on http://127.0.0.1:5000\n",
      "Press CTRL+C to quit\n",
      "127.0.0.1 - - [21/Jun/2023 21:48:53] \"GET / HTTP/1.1\" 200 -\n"
     ]
    }
   ],
   "source": [
    "from flask import Flask, render_template\n",
    "app = Flask(__name__)\n",
    "\n",
    "table_rows = []\n",
    "@app.route('/')\n",
    "def display_table():\n",
    "\n",
    "    \n",
    "    # 每三項為一組，以並排顯示\n",
    "    for i in range(0, len(text), 3):\n",
    "        name = text[i]\n",
    "        moves = text[i + 1]\n",
    "        \n",
    "        score = text[i + 2]\n",
    "        \n",
    "        \n",
    "        table_rows.append({\n",
    "            'name': name,\n",
    "            'moves': moves,\n",
    "            'score': score\n",
    "        })\n",
    "\n",
    "    return render_template('index.html', rows=table_rows)\n",
    "\n",
    "if __name__ == '__main__':\n",
    "    app.run()\n"
   ]
  },
  {
   "cell_type": "code",
   "execution_count": 13,
   "metadata": {},
   "outputs": [
    {
     "name": "stdout",
     "output_type": "stream",
     "text": [
      "OK\n"
     ]
    }
   ],
   "source": [
    "import pyodbc\n",
    "\n",
    "# 建立與 SQL Server 的連線\n",
    "conn = pyodbc.connect(\"Driver={SQL Server};SERVER=MSI;DATABASE=poke;UID=sa;PWD=123\")\n",
    "\n",
    "# 確認連線成功\n",
    "if conn:\n",
    "    print(\"OK\")\n",
    "\n",
    "# 建立 cursor 來執行 SQL 語法\n",
    "cursor = conn.cursor()\n",
    "\n",
    "\n"
   ]
  },
  {
   "cell_type": "code",
   "execution_count": null,
   "metadata": {},
   "outputs": [],
   "source": [
    "cursor.execute('''\n",
    "\t\tCREATE TABLE cp1500 (\n",
    "            name nvarchar(50),\n",
    "            moves nvarchar(150),\n",
    "            score nvarchar(50)\n",
    "\t\t\t)\n",
    "               ''')\n",
    "\n",
    "conn.commit()"
   ]
  },
  {
   "cell_type": "code",
   "execution_count": null,
   "metadata": {},
   "outputs": [],
   "source": [
    "#更換moves欄位的逗號為底線\n",
    "for row in table_rows:\n",
    "    moves = row['moves'].replace(',', '_')\n",
    "    row['moves'] = moves"
   ]
  },
  {
   "cell_type": "code",
   "execution_count": null,
   "metadata": {},
   "outputs": [],
   "source": [
    "#插入資料\n",
    "insert_sql = \"INSERT INTO cp1500 (name, moves, score) VALUES (?, ?, ?)\"\n",
    "\n",
    "for row in table_rows:\n",
    "    values = (row['name'], row['moves'], row['score'])\n",
    "    cursor.execute(insert_sql, values)\n",
    "\n",
    "# 提交資料庫交易\n",
    "conn.commit()\n"
   ]
  },
  {
   "cell_type": "code",
   "execution_count": 14,
   "metadata": {},
   "outputs": [
    {
     "name": "stdout",
     "output_type": "stream",
     "text": [
      "('#1大嘴鷗', '翅膀攻擊_ 氣象球 水_ 暴風', '100')\n",
      "('#2頭巾混混', '雙倍奉還_ 欺詐_ 增強拳', '99.6')\n",
      "('#3巨沼怪 暗影', '泥巴射擊_ 加農水砲*_ 地震', '99')\n",
      "('#4恰雷姆XL', '雙倍奉還_ 冰凍拳_ 精神強念', '98.9')\n",
      "('#5大狃拉', '暗影爪_ 近身戰_ 十字剪', '98.7')\n",
      "('#6巨沼怪', '泥巴射擊_ 加農水砲*_ 地震', '98.7')\n",
      "('#7倫琴貓 暗影', '電光_ 瘋狂伏特_ 精神之牙*', '98.6')\n",
      "('#8沼王 暗影', '泥巴射擊_ 泥巴炸彈_ 尖石攻擊', '98.4')\n",
      "('#9怪力 暗影', '雙倍奉還_ 十字劈_ 岩崩', '98.1')\n",
      "('#10大比鳥', '翅膀攻擊*_ 羽毛舞_ 勇鳥猛攻', '97.4')\n",
      "('#11泥巴魚 伽勒爾', '泥巴射擊_ 岩崩_ 地震', '96.9')\n",
      "('#12天蠍王', '翅膀攻擊_ 地震_ 暗襲要害', '96.6')\n",
      "('#13怪力', '雙倍奉還_ 十字劈_ 岩崩', '96.6')\n",
      "('#14噴火龍 暗影', '翅膀攻擊*_ 爆炸烈焰*_ 龍爪', '96.4')\n",
      "('#15倫琴貓', '電光_ 瘋狂伏特_ 精神之牙*', '96.1')\n",
      "('#16托戈德瑪爾', '電擊_ 致命針刺_ 瘋狂伏特', '96')\n",
      "('#17過動猿', '雙倍奉還_ 泰山壓頂_ 重踏', '96')\n",
      "('#18杖尾鱗甲龍', '龍尾_ 近身戰_ 龍爪', '95.7')\n",
      "('#19火爆猴', '雙倍奉還_ 暗襲要害_ 近身戰', '95.4')\n",
      "('#20電燈怪', '電光_ 衝浪_ 十萬伏特', '95.1')\n",
      "('#21巨翅飛魚', '翅膀攻擊_ 泡沫光線_ 冰凍光束', '95.1')\n",
      "('#22貓頭夜鷹', '翅膀攻擊_ 神鳥猛擊_ 暗影球', '95.1')\n",
      "('#23胖嘟嘟', '禍不單行_ 衝浪_ 暗影球', '94.9')\n",
      "('#24雷吉斯奇魯', '鎖定_ 真氣彈_ 電磁炮*', '94.9')\n",
      "('#25噴火龍', '翅膀攻擊*_ 爆炸烈焰*_ 龍爪', '94.8')\n",
      "('#26大舌頭XL', '舌舔_ 泰山壓頂*_ 強力鞭打', '94.8')\n",
      "('#27穿山王 阿羅拉 暗影', '暗影爪*_ 冰凍拳_ 直衝鑽', '94.8')\n",
      "('#28鯰魚王', '泥巴射擊_ 泥巴炸彈_ 暴風雪', '94')\n",
      "('#29沼王', '泥巴射擊_ 泥巴炸彈_ 尖石攻擊', '93.7')\n",
      "('#30九尾 阿羅拉 暗影', '細雪_ 氣象球 冰_ 魔法閃耀', '93.4')\n",
      "('#31天蠍王 暗影', '翅膀攻擊_ 地震_ 暗襲要害', '93.2')\n",
      "('#32大嘴蝠', '翅膀攻擊_ 劇毒牙_ 暗影球', '93.2')\n",
      "('#33雙斧戰龍', '雙倍奉還_ 廣域破壞*_ 衝浪', '93.2')\n",
      "('#34暴雪王 暗影', '細雪_ 氣象球 冰_ 能量球', '93.1')\n",
      "('#35七夕青鳥', '龍息_ 神鳥猛擊_ 月亮之力*', '93.1')\n",
      "('#36冰雪巨龍', '細雪_ 氣象球 冰_ 流星光束', '92.9')\n",
      "('#37毛毛角羊', '二連踢_ 泰山壓頂_ 以牙還牙', '92.9')\n",
      "('#38惡食大王', '龍尾_ 龍爪_ 咬碎', '92.9')\n",
      "('#39九尾 阿羅拉', '細雪_ 氣象球 冰_ 魔法閃耀', '92.9')\n",
      "('#40滴蛛霸', '蟲咬_ 蟲鳴_ 泡沫光線', '92.8')\n",
      "('#41死神板', '暗影爪_ 流沙地獄_ 暗影球', '92.6')\n",
      "('#42帝牙海獅', '細雪*_ 冰錐*_ 地震', '92.6')\n",
      "('#43帝牙海獅 暗影', '細雪*_ 冰錐*_ 地震', '92.5')\n",
      "('#44蘭螳花', '連斬_ 葉刃_ 蠻力', '92.3')\n",
      "('#45代歐奇希斯 防禦', '雙倍奉還_ 精神突進_ 十萬伏特', '92')\n",
      "('#46掘地兔XL', '泥巴射擊_ 火焰拳_ 地震', '92')\n",
      "('#47大嘴蝠 暗影', '翅膀攻擊_ 劇毒牙_ 暗影球', '92')\n",
      "('#48月亮伊布', '大聲咆哮_ 欺詐_ 珍藏*', '91.9')\n",
      "('#49暴雪王', '細雪_ 氣象球 冰_ 能量球', '91.6')\n",
      "('#50鱗甲龍', '龍尾_ 龍爪_ 劈瓦', '91.6')\n",
    ]
    }
   ],
   "source": [
    "cursor.execute('SELECT * FROM cp1500')\n",
    "\n",
    "# 獲取查詢結果\n",
    "result = cursor.fetchall()\n",
    "\n",
    "# 輸出結果\n",
    "for row in result:\n",
    "    print(row)\n",
    "\n",
    "# 關閉連線\n",
    "cursor.close()\n",
    "conn.close()\n"
   ]
  }
 ],
 "metadata": {
  "kernelspec": {
   "display_name": "Python 3",
   "language": "python",
   "name": "python3"
  },
  "language_info": {
   "codemirror_mode": {
    "name": "ipython",
    "version": 3
   },
   "file_extension": ".py",
   "mimetype": "text/x-python",
   "name": "python",
   "nbconvert_exporter": "python",
   "pygments_lexer": "ipython3",
   "version": "3.11.3"
  },
  "orig_nbformat": 4,
  "vscode": {
   "interpreter": {
    "hash": "fb4569285eef3a3450cb62085a5b1e0da4bce0af555edc33dcf29baf3acc1368"
   }
  }
 },
 "nbformat": 4,
 "nbformat_minor": 2
}
