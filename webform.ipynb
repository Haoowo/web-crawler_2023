{
 "cells": [
  {
   "cell_type": "code",
   "execution_count": 38,
   "metadata": {},
   "outputs": [],
   "source": [
    "from bs4 import BeautifulSoup\n",
    "from selenium import webdriver\n",
    "\n",
    "from selenium.webdriver.common.by import By\n",
    "\n",
    "\n",
    "\n",
    "driver = webdriver.Chrome()\n",
    "\n",
    "url = \"https://pvpoketw.com/rankings/all/1500/leads/\"\n",
    "driver.get(url)\n",
    "driver.minimize_window()\n",
    "# 等待網頁加載完成\n",
    "driver.implicitly_wait(5)\n",
    "table = driver.find_element(By.XPATH,'//*[@id=\"main\"]/div[2]/div[9]')\n",
    "text = table.text\n",
    "text = text.replace('\\n†\\n,', ',')\n",
    "\n",
    "text = text.split('\\n')"
   ]
  },
  {
   "cell_type": "code",
   "execution_count": 39,
   "metadata": {},
   "outputs": [],
   "source": [
    "#//*[@id=\"main\"]/div[2]/div[9]"
   ]
  },
  {
   "cell_type": "code",
   "execution_count": 40,
   "metadata": {},
   "outputs": [],
   "source": [
    "html_output = \"\"\n",
    "# 每三項為一組，以並排顯示\n",
    "for i in range(0, len(text), 3):\n",
    "    \n",
    "    \n",
    "    name = text[i]\n",
    "    moves = text[i+1]\n",
    "    try:\n",
    "        score = text[i+2]\n",
    "    except IndexError:\n",
    "        # 忽略錯誤，跳過該列資料\n",
    "        continue       \n",
    "    html_output += \"<tr>\"\n",
    "    html_output += f\"<td><strong>名稱:</strong> {name} </td>\"\n",
    "    html_output += f\"<td><strong>招式:</strong> {moves} </td>\"\n",
    "    html_output += f\"<td><strong>總分:</strong> {score} </td>\"+\"<hr/>\"\n",
    "            \n",
    "    html_output += \"<hr/>\"\n",
    "    \n",
    "\n",
    "\n",
    "\n",
    "\n",
    "# 將HTML輸出到檔案\n",
    "with open(\"output.html\", \"w\", encoding=\"utf-8\") as file:\n",
    "    file.write(html_output)"
   ]
  },
  {
   "attachments": {},
   "cell_type": "markdown",
   "metadata": {},
   "source": [
    "# 指定要寫入的檔案路徑\n",
    "file_path = 'output.txt'\n",
    "\n",
    "# 將列表轉換為單個字串，使用換行符 '\\n' 分隔元素\n",
    "text_str = '\\n'.join(text)\n",
    "\n",
    "# 開啟檔案並以寫入模式寫入內容\n",
    "with open(file_path, 'w', encoding='utf-8') as file:\n",
    "    file.write(text_str)\n",
    "\n",
    "print('文本已成功寫入檔案。')"
   ]
  },
  {
   "cell_type": "code",
   "execution_count": 41,
   "metadata": {},
   "outputs": [
    {
     "name": "stdout",
     "output_type": "stream",
     "text": [
      "文本已成功寫入檔案。\n"
     ]
    }
   ],
   "source": [
    "# 指定要寫入的檔案路徑\n",
    "file_path = 'output.txt'\n",
    "\n",
    "# 將列表轉換為單個字串，使用換行符 '\\n' 分隔元素\n",
    "text_str = '\\n'.join(text)\n",
    "\n",
    "# 開啟檔案並以寫入模式寫入內容\n",
    "with open(file_path, 'w', encoding='utf-8') as file:\n",
    "    file.write(text_str)\n",
    "\n",
    "print('文本已成功寫入檔案。')"
   ]
  },
  {
   "attachments": {},
   "cell_type": "markdown",
   "metadata": {},
   "source": []
  }
 ],
 "metadata": {
  "kernelspec": {
   "display_name": "Python 3",
   "language": "python",
   "name": "python3"
  },
  "language_info": {
   "codemirror_mode": {
    "name": "ipython",
    "version": 3
   },
   "file_extension": ".py",
   "mimetype": "text/x-python",
   "name": "python",
   "nbconvert_exporter": "python",
   "pygments_lexer": "ipython3",
   "version": "3.10.5"
  },
  "orig_nbformat": 4,
  "vscode": {
   "interpreter": {
    "hash": "fb4569285eef3a3450cb62085a5b1e0da4bce0af555edc33dcf29baf3acc1368"
   }
  }
 },
 "nbformat": 4,
 "nbformat_minor": 2
}
