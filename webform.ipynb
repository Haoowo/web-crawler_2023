{
 "cells": [
  {
   "cell_type": "code",
   "execution_count": 31,
   "metadata": {},
   "outputs": [],
   "source": [
    "from bs4 import BeautifulSoup\n",
    "from selenium import webdriver\n",
    "import requests\n",
    "\n",
    "\n",
    "\n",
    "driver = webdriver.Chrome()\n",
    "\n",
    "url = \"https://pvpoketw.com/rankings/all/1500/leads/\"\n",
    "driver.get(url)\n",
    "\n",
    "# 等待網頁加載完成\n",
    "driver.implicitly_wait(3)\n",
    "table = driver.find_element(By.XPATH,'//*[@id=\"main\"]/div[2]/div[9]')\n",
    "text = table.text\n"
   ]
  },
  {
   "cell_type": "code",
   "execution_count": 35,
   "metadata": {},
   "outputs": [],
   "source": [
    "\n",
    "# 建立HTML表格\n",
    "html_table = \"<table>\"\n",
    "for row in text:\n",
    "    html_table += \"<tr>\"\n",
    "    columns = row.split(\" \")\n",
    "    for column in columns:\n",
    "        html_table += f\"<td>{column}</td>\"\n",
    "    html_table += \"</tr>\"\n",
    "html_table += \"</table>\"\n",
    "\n",
    "# 將HTML表格輸出到檔案\n",
    "with open(\"output.html\", \"w\", encoding=\"utf-8\") as file:\n",
    "    file.write(html_table)\n",
    "\n",
    "# 關閉瀏覽器\n",
    "driver.quit()"
   ]
  },
  {
   "cell_type": "code",
   "execution_count": null,
   "metadata": {},
   "outputs": [],
   "source": [
    "#//*[@id=\"main\"]/div[2]/div[9]"
   ]
  }
 ],
 "metadata": {
  "kernelspec": {
   "display_name": "Python 3",
   "language": "python",
   "name": "python3"
  },
  "language_info": {
   "codemirror_mode": {
    "name": "ipython",
    "version": 3
   },
   "file_extension": ".py",
   "mimetype": "text/x-python",
   "name": "python",
   "nbconvert_exporter": "python",
   "pygments_lexer": "ipython3",
   "version": "3.9.6"
  },
  "orig_nbformat": 4
 },
 "nbformat": 4,
 "nbformat_minor": 2
}
